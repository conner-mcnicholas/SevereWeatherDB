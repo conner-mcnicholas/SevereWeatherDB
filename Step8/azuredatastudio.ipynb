{
    "metadata": {
        "kernelspec": {
            "name": "SQL",
            "display_name": "SQL",
            "language": "sql"
        },
        "language_info": {
            "name": "sql",
            "version": ""
        }
    },
    "nbformat_minor": 2,
    "nbformat": 4,
    "cells": [
        {
            "cell_type": "code",
            "source": [
                "SELECT TOP 10\n",
                "    CONCAT(BEGIN_YEARMONTH,BEGIN_NEWD) AS BEGIN_FULLDATE, \n",
                "    CONCAT(END_YEARMONTH,END_NEWD) AS END_FULLDATE \n",
                "    FROM (SELECT \n",
                "              BEGIN_YEARMONTH,\n",
                "              CASE WHEN LEN(BEGIN_DAY) = 1 THEN CONCAT('0',BEGIN_DAY) ELSE BEGIN_DAY END AS BEGIN_NEWD, \n",
                "              END_YEARMONTH, \n",
                "              CASE WHEN LEN(END_DAY) = 1 THEN CONCAT('0',END_DAY) ELSE END_DAY END AS END_NEWD \n",
                "          FROM details) d;"
            ],
            "metadata": {
                "azdata_cell_guid": "6f7247c7-f4be-4b68-9dde-f7e49b470e81",
                "language": "sql",
                "tags": []
            },
            "outputs": [
                {
                    "output_type": "display_data",
                    "data": {
                        "text/html": "(10 rows affected)"
                    },
                    "metadata": {}
                },
                {
                    "output_type": "display_data",
                    "data": {
                        "text/html": "Total execution time: 00:00:00.160"
                    },
                    "metadata": {}
                },
                {
                    "output_type": "execute_result",
                    "metadata": {},
                    "execution_count": 3,
                    "data": {
                        "application/vnd.dataresource+json": {
                            "schema": {
                                "fields": [
                                    {
                                        "name": "BEGIN_FULLDATE"
                                    },
                                    {
                                        "name": "END_FULLDATE"
                                    }
                                ]
                            },
                            "data": [
                                {
                                    "0": "20190101",
                                    "1": "20190101"
                                },
                                {
                                    "0": "20190101",
                                    "1": "20190101"
                                },
                                {
                                    "0": "20190101",
                                    "1": "20190101"
                                },
                                {
                                    "0": "20190101",
                                    "1": "20190101"
                                },
                                {
                                    "0": "20190101",
                                    "1": "20190101"
                                },
                                {
                                    "0": "20190101",
                                    "1": "20190101"
                                },
                                {
                                    "0": "20190102",
                                    "1": "20190102"
                                },
                                {
                                    "0": "20190102",
                                    "1": "20190102"
                                },
                                {
                                    "0": "20190102",
                                    "1": "20190102"
                                },
                                {
                                    "0": "20190101",
                                    "1": "20190101"
                                }
                            ]
                        },
                        "text/html": [
                            "<table>",
                            "<tr><th>BEGIN_FULLDATE</th><th>END_FULLDATE</th></tr>",
                            "<tr><td>20190101</td><td>20190101</td></tr>",
                            "<tr><td>20190101</td><td>20190101</td></tr>",
                            "<tr><td>20190101</td><td>20190101</td></tr>",
                            "<tr><td>20190101</td><td>20190101</td></tr>",
                            "<tr><td>20190101</td><td>20190101</td></tr>",
                            "<tr><td>20190101</td><td>20190101</td></tr>",
                            "<tr><td>20190102</td><td>20190102</td></tr>",
                            "<tr><td>20190102</td><td>20190102</td></tr>",
                            "<tr><td>20190102</td><td>20190102</td></tr>",
                            "<tr><td>20190101</td><td>20190101</td></tr>",
                            "</table>"
                        ]
                    }
                }
            ],
            "execution_count": 3
        },
        {
            "cell_type": "code",
            "source": [
                "SELECT TOP 5\n",
                "    CONCAT(FAT_YEARMONTH,FAT_NEWD) AS FAT_FULLDATE\n",
                "    FROM (SELECT \n",
                "              FAT_YEARMONTH,\n",
                "              CASE WHEN LEN(FAT_DAY) = 1 THEN CONCAT('0',FAT_DAY) ELSE FAT_DAY END AS FAT_NEWD\n",
                "          FROM fatalities) f;"
            ],
            "metadata": {
                "azdata_cell_guid": "3727eeea-e188-4cdc-8ef8-b11d3899ef84",
                "language": "sql"
            },
            "outputs": [
                {
                    "output_type": "display_data",
                    "data": {
                        "text/html": "(5 rows affected)"
                    },
                    "metadata": {}
                },
                {
                    "output_type": "display_data",
                    "data": {
                        "text/html": "Total execution time: 00:00:00.151"
                    },
                    "metadata": {}
                },
                {
                    "output_type": "execute_result",
                    "metadata": {},
                    "execution_count": 2,
                    "data": {
                        "application/vnd.dataresource+json": {
                            "schema": {
                                "fields": [
                                    {
                                        "name": "FAT_FULLDATE"
                                    }
                                ]
                            },
                            "data": [
                                {
                                    "0": "20190101"
                                },
                                {
                                    "0": "20190101"
                                },
                                {
                                    "0": "20190110"
                                },
                                {
                                    "0": "20190101"
                                },
                                {
                                    "0": "20190121"
                                }
                            ]
                        },
                        "text/html": [
                            "<table>",
                            "<tr><th>FAT_FULLDATE</th></tr>",
                            "<tr><td>20190101</td></tr>",
                            "<tr><td>20190101</td></tr>",
                            "<tr><td>20190110</td></tr>",
                            "<tr><td>20190101</td></tr>",
                            "<tr><td>20190121</td></tr>",
                            "</table>"
                        ]
                    }
                }
            ],
            "execution_count": 2
        }
    ]
}