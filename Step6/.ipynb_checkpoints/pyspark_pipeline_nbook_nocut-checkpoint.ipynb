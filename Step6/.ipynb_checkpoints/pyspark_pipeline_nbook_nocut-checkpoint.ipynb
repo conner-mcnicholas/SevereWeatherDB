{
 "cells": [
  {
   "cell_type": "code",
   "execution_count": 1,
   "metadata": {
    "application/vnd.databricks.v1+cell": {
     "inputWidgets": {},
     "nuid": "1aec884e-21c0-4c7d-8827-1ea818f80438",
     "showTitle": false,
     "title": ""
    }
   },
   "outputs": [
    {
     "ename": "SyntaxError",
     "evalue": "invalid syntax (find_spark_home.py, line 68)",
     "output_type": "error",
     "traceback": [
      "\u001b[0;36m  File \u001b[0;32m\"/opt/spark/python/pyspark/find_spark_home.py\"\u001b[0;36m, line \u001b[0;32m68\u001b[0m\n\u001b[0;31m    print(\"Could not find valid SPARK_HOME while searching {0}\".format(paths), file=sys.stderr)\u001b[0m\n\u001b[0m                                                                                   ^\u001b[0m\n\u001b[0;31mSyntaxError\u001b[0m\u001b[0;31m:\u001b[0m invalid syntax\n"
     ]
    }
   ],
   "source": [
    "from pyspark.sql import SparkSession\n",
    "from pyspark.sql.types import StructType,StructField, StringType, IntegerType\n",
    "from pyspark.sql.types import ArrayType, DoubleType, BooleanType\n",
    "from pyspark.sql.functions import *"
   ]
  },
  {
   "cell_type": "code",
   "execution_count": 0,
   "metadata": {
    "application/vnd.databricks.v1+cell": {
     "inputWidgets": {},
     "nuid": "6ab87023-1caa-4605-81b0-5e9ed91381c8",
     "showTitle": false,
     "title": ""
    }
   },
   "outputs": [
    {
     "data": {
      "text/html": [
       "<style scoped>\n",
       "  .ansiout {\n",
       "    display: block;\n",
       "    unicode-bidi: embed;\n",
       "    white-space: pre-wrap;\n",
       "    word-wrap: break-word;\n",
       "    word-break: break-all;\n",
       "    font-family: \"Source Code Pro\", \"Menlo\", monospace;;\n",
       "    font-size: 13px;\n",
       "    color: #555;\n",
       "    margin-left: 4px;\n",
       "    line-height: 19px;\n",
       "  }\n",
       "</style>\n",
       "<div class=\"ansiout\"></div>"
      ]
     },
     "metadata": {
      "application/vnd.databricks.v1+output": {
       "addedWidgets": {},
       "arguments": {},
       "data": "<div class=\"ansiout\"></div>",
       "datasetInfos": [],
       "metadata": {},
       "removedWidgets": [],
       "type": "html"
      }
     },
     "output_type": "display_data"
    }
   ],
   "source": [
    "schema_details = StructType([\n",
    "    StructField(\"BEGIN_YEARMONTH\", StringType(),True),\n",
    "    StructField(\"BEGIN_DAY\", StringType(),True),\n",
    "    StructField(\"BEGIN_TIME\", StringType(),True),\n",
    "    StructField(\"END_YEARMONTH\", StringType(),True),\n",
    "    StructField(\"END_DAY\", StringType(),True),\n",
    "    StructField(\"END_TIME\", StringType(),True),\n",
    "    StructField(\"EPISODE_ID\", IntegerType(),True),\n",
    "    StructField(\"EVENT_ID\", IntegerType(),True),\n",
    "    StructField(\"STATE\", StringType(),True),\n",
    "    StructField(\"STATE_FIPS\", IntegerType(),True),\n",
    "    StructField(\"YEAR\", IntegerType(),True),\n",
    "    StructField(\"MONTH_NAME\", StringType(),True),\n",
    "    StructField(\"EVENT_TYPE\", StringType(),True),\n",
    "    StructField(\"CZ_TYPE\", StringType(),True),\n",
    "    StructField(\"CZ_FIPS\", IntegerType(),True),\n",
    "    StructField(\"CZ_NAME\", StringType(),True),\n",
    "    StructField(\"WFO\", StringType(),True),\n",
    "    StructField(\"BEGIN_DATE_TIME\", StringType(),True),\n",
    "    StructField(\"CZ_TIMEZONE\", StringType(),True),\n",
    "    StructField(\"END_DATE_TIME\", StringType(),True),\n",
    "    StructField(\"INJURIES_DIRECT\", IntegerType(),True),\n",
    "    StructField(\"INJURIES_INDIRECT\", IntegerType(),True),\n",
    "    StructField(\"DEATHS_DIRECT\", IntegerType(),True),\n",
    "    StructField(\"DEATHS_INDIRECT\", IntegerType(),True),\n",
    "    StructField(\"DAMAGE_PROPERTY\", StringType(),True),\n",
    "    StructField(\"DAMAGE_CROPS\", StringType(),True),\n",
    "    StructField(\"SOURCE\", StringType(),True),\n",
    "    StructField(\"MAGNITUDE\", DoubleType(),True),\n",
    "    StructField(\"MAGNITUDE_TYPE\", StringType(),True),\n",
    "    StructField(\"FLOOD_CAUSE\", StringType(),True),\n",
    "    StructField(\"CATEGORY\", IntegerType(),True),\n",
    "    StructField(\"TOR_F_SCALE\", StringType(),True),\n",
    "    StructField(\"TOR_LENGTH\", DoubleType(),True),\n",
    "    StructField(\"TOR_WIDTH\", IntegerType(),True),\n",
    "    StructField(\"TOR_OTHER_WFO\", StringType(),True),\n",
    "    StructField(\"TOR_OTHER_CZ_STATE\", StringType(),True),\n",
    "    StructField(\"TOR_OTHER_CZ_FIPS\", IntegerType(),True),\n",
    "    StructField(\"TOR_OTHER_CZ_NAME\", StringType(),True),\n",
    "    StructField(\"BEGIN_RANGE\", IntegerType(),True),\n",
    "    StructField(\"BEGIN_AZIMUTH\", StringType(),True),\n",
    "    StructField(\"BEGIN_LOCATION\", StringType(),True),\n",
    "    StructField(\"END_RANGE\", IntegerType(),True),\n",
    "    StructField(\"END_AZIMUTH\", StringType(),True),\n",
    "    StructField(\"END_LOCATION\", StringType(),True),\n",
    "    StructField(\"BEGIN_LAT\", DoubleType(),True),\n",
    "    StructField(\"BEGIN_LON\", DoubleType(),True),\n",
    "    StructField(\"END_LAT\", DoubleType(),True),\n",
    "    StructField(\"END_LON\", DoubleType(),True),\n",
    "    StructField(\"EPISODE_NARRATIVE\",StringType(),True),\n",
    "    StructField(\"EVENT_NARRATIVE\",StringType(),True),\n",
    "    StructField(\"DATA_SOURCE\",StringType(),True)\n",
    "])\n",
    "\n",
    "schema_fatalities = StructType([\n",
    "    StructField(\"FAT_YEARMONTH\", StringType(),True),\n",
    "    StructField(\"FAT_DAY\", StringType(),True),\n",
    "    StructField(\"FAT_TIME\", StringType(),True),\n",
    "    StructField(\"FATALITY_ID INT\", IntegerType(),True),\n",
    "    StructField(\"FATALITY_ID\", IntegerType(),True),\n",
    "    StructField(\"EVENT_ID\", IntegerType(),True),\n",
    "    StructField(\"FATALITY_TYPE\", StringType(),True),\n",
    "    StructField(\"FATALITY_DATE\", StringType(),True),\n",
    "    StructField(\"FATALITY_AGE\", IntegerType(),True),\n",
    "    StructField(\"FATALITY_SEX\", StringType(),True),\n",
    "    StructField(\"FATALITY_LOCATION\",IntegerType(),True),\n",
    "    StructField(\"EVENT_YEARMONTH\",StringType(),True)\n",
    "])"
   ]
  },
  {
   "cell_type": "code",
   "execution_count": 0,
   "metadata": {
    "application/vnd.databricks.v1+cell": {
     "inputWidgets": {},
     "nuid": "d116652f-c7b1-4ffe-aac0-8cdf4c8a607f",
     "showTitle": false,
     "title": ""
    }
   },
   "outputs": [
    {
     "data": {
      "text/html": [
       "<style scoped>\n",
       "  .ansiout {\n",
       "    display: block;\n",
       "    unicode-bidi: embed;\n",
       "    white-space: pre-wrap;\n",
       "    word-wrap: break-word;\n",
       "    word-break: break-all;\n",
       "    font-family: \"Source Code Pro\", \"Menlo\", monospace;;\n",
       "    font-size: 13px;\n",
       "    color: #555;\n",
       "    margin-left: 4px;\n",
       "    line-height: 19px;\n",
       "  }\n",
       "</style>\n",
       "<div class=\"ansiout\"></div>"
      ]
     },
     "metadata": {
      "application/vnd.databricks.v1+output": {
       "addedWidgets": {},
       "arguments": {},
       "data": "<div class=\"ansiout\"></div>",
       "datasetInfos": [],
       "metadata": {},
       "removedWidgets": [],
       "type": "html"
      }
     },
     "output_type": "display_data"
    }
   ],
   "source": [
    "#2 fields below included in connection_string\n",
    "storage_account_name = \"pipelinestorageacctaus\"\n",
    "storage_account_access_key = \"f6fWRdrrX8qYB9a1y2Rlgu7qCuyeHuD59j3UIb0hi3ZanAn8DUmej+uofzFi7irJm954fTa5LtBb+AStzjJHYA==\"\n",
    "blob_container = \"severeweathercontainer\""
   ]
  },
  {
   "cell_type": "code",
   "execution_count": 0,
   "metadata": {
    "application/vnd.databricks.v1+cell": {
     "inputWidgets": {},
     "nuid": "445af8c7-0808-4404-8261-cce64cd2ed73",
     "showTitle": false,
     "title": ""
    }
   },
   "outputs": [
    {
     "data": {
      "text/html": [
       "<style scoped>\n",
       "  .ansiout {\n",
       "    display: block;\n",
       "    unicode-bidi: embed;\n",
       "    white-space: pre-wrap;\n",
       "    word-wrap: break-word;\n",
       "    word-break: break-all;\n",
       "    font-family: \"Source Code Pro\", \"Menlo\", monospace;;\n",
       "    font-size: 13px;\n",
       "    color: #555;\n",
       "    margin-left: 4px;\n",
       "    line-height: 19px;\n",
       "  }\n",
       "</style>\n",
       "<div class=\"ansiout\">count of details loaded to spark: 3205310\n",
       "count of fatalities loaded to spark: 45130\n",
       "</div>"
      ]
     },
     "metadata": {
      "application/vnd.databricks.v1+output": {
       "addedWidgets": {},
       "arguments": {},
       "data": "<div class=\"ansiout\">count of details loaded to spark: 3205310\ncount of fatalities loaded to spark: 45130\n</div>",
       "datasetInfos": [],
       "metadata": {},
       "removedWidgets": [],
       "type": "html"
      }
     },
     "output_type": "display_data"
    }
   ],
   "source": [
    "detPath = \"wasbs://\"  + blob_container + \"@\" + storage_account_name + \".blob.core.windows.net/details/\"\n",
    "fatPath = \"wasbs://\"  + blob_container + \"@\" + storage_account_name + \".blob.core.windows.net/fatalities/\"\n",
    "\n",
    "df_details = spark.read.format(\"csv\").option(\"header\", True).schema(schema_details).load(detPath)\n",
    "df_fatalities = spark.read.format(\"csv\").option(\"header\", True).schema(schema_fatalities).load(fatPath)\n",
    "\n",
    "print('count of details loaded to spark: ' +  str(df_details.count()))\n",
    "print('count of fatalities loaded to spark: ' + str(df_fatalities.count()))"
   ]
  },
  {
   "cell_type": "code",
   "execution_count": 0,
   "metadata": {
    "application/vnd.databricks.v1+cell": {
     "inputWidgets": {},
     "nuid": "87571221-3660-4c2a-b8d0-61fdee1f05e6",
     "showTitle": false,
     "title": ""
    }
   },
   "outputs": [
    {
     "data": {
      "text/html": [
       "<style scoped>\n",
       "  .ansiout {\n",
       "    display: block;\n",
       "    unicode-bidi: embed;\n",
       "    white-space: pre-wrap;\n",
       "    word-wrap: break-word;\n",
       "    word-break: break-all;\n",
       "    font-family: \"Source Code Pro\", \"Menlo\", monospace;;\n",
       "    font-size: 13px;\n",
       "    color: #555;\n",
       "    margin-left: 4px;\n",
       "    line-height: 19px;\n",
       "  }\n",
       "</style>"
      ]
     },
     "metadata": {
      "application/vnd.databricks.v1+output": {
       "arguments": {},
       "data": "",
       "errorSummary": "Command skipped",
       "errorTraceType": "html",
       "metadata": {},
       "type": "ipynbError"
      }
     },
     "output_type": "display_data"
    }
   ],
   "source": [
    "\"\"\"\n",
    "This approach was dropped in favor of reading entire container folders directly to df\n",
    "Retaining code as it contains useful azure library utilities that may prove useful in later stages\n",
    "\"\"\"\n",
    "#from azure.storage.blob import BlobServiceClient\n",
    "#import re \n",
    "#The second command below was required in my databricks environment \n",
    "# pip install azure-storage-file\n",
    "# pip install azure-storage-blob\n",
    "'''\n",
    "connection_string = \"DefaultEndpointsProtocol=https;AccountName=pipelinestorageacctaus;AccountKey=f6fWRdrrX8qYB9a1y2Rlgu7qCuyeHuD59j3UIb0hi3ZanAn8DUmej+uofzFi7irJm954fTa5LtBb+AStzjJHYA==;EndpointSuffix=core.windows.net\"\n",
    "\n",
    "# Instantiate a BlobServiceClient\n",
    "blob_service_client = BlobServiceClient.from_connection_string(connection_string)\n",
    "# Instantiate a ContainerClient\n",
    "pipeline_container_client = blob_service_client.get_container_client(blob_container)\n",
    "# Instantiate Files in Container\n",
    "pipeline_container_list = pipeline_container_client.list_blobs()\n",
    "\n",
    "# Print list of all file in Container\n",
    "for blobfile in pipeline_container_list:\n",
    "    print(blobfile.name)\n",
    "'''"
   ]
  }
 ],
 "metadata": {
  "application/vnd.databricks.v1+notebook": {
   "dashboards": [],
   "language": "python",
   "notebookMetadata": {
    "pythonIndentUnit": 4
   },
   "notebookName": "pyspark_pipeline_nbook",
   "notebookOrigID": 39210620783688,
   "widgets": {}
  },
  "kernelspec": {
   "display_name": "Python 2",
   "language": "python",
   "name": "python2"
  },
  "language_info": {
   "codemirror_mode": {
    "name": "ipython",
    "version": 2
   },
   "file_extension": ".py",
   "mimetype": "text/x-python",
   "name": "python",
   "nbconvert_exporter": "python",
   "pygments_lexer": "ipython2",
   "version": "2.7.18"
  }
 },
 "nbformat": 4,
 "nbformat_minor": 1
}
